{
 "cells": [
  {
   "cell_type": "code",
   "execution_count": 1,
   "metadata": {},
   "outputs": [],
   "source": [
    "import segmentation_models_pytorch as smp\n",
    "from trainer import Trainer"
   ]
  },
  {
   "cell_type": "code",
   "execution_count": 2,
   "metadata": {},
   "outputs": [],
   "source": [
    "MODEL = 'FPN'\n",
    "ENCODER = 'efficientnet-b3'\n",
    "OPTIMIZER = 'Ranger'         # options currently available : Over9000, Ralamb, RAdam, Ranger, LookaheadAdam\n",
    "LOSS = 'BCE'"
   ]
  },
  {
   "cell_type": "code",
   "execution_count": 3,
   "metadata": {},
   "outputs": [],
   "source": [
    "if(MODEL == 'Unet'):\n",
    "    model = smp.Unet(ENCODER, encoder_weights='imagenet', classes=5, activation=None)\n",
    "elif(MODEL == 'FPN'):\n",
    "    model = smp.FPN(ENCODER, encoder_weights='imagenet', classes=5, activation=None)\n",
    "elif(MODEL == 'Linknet'):\n",
    "    model = smp.Linknet(ENCODER, encoder_weights='imagenet', classes=5, activation=None)"
   ]
  },
  {
   "cell_type": "code",
   "execution_count": null,
   "metadata": {},
   "outputs": [],
   "source": [
    "model_trainer = Trainer(model = model, optim = OPTIMIZER, loss = LOSS, lr = 1e-3, bs = 8, name = ENCODER+'_'+MODEL+'_'+LOSS)"
   ]
  },
  {
   "cell_type": "code",
   "execution_count": null,
   "metadata": {},
   "outputs": [],
   "source": [
    "model_trainer.seed_everything(43)"
   ]
  },
  {
   "cell_type": "code",
   "execution_count": null,
   "metadata": {},
   "outputs": [],
   "source": [
    "model_trainer.change_loader(crop_type=0, shape=512)"
   ]
  },
  {
   "cell_type": "code",
   "execution_count": null,
   "metadata": {},
   "outputs": [
    {
     "name": "stdout",
     "output_type": "stream",
     "text": [
      "Starting epoch: 0 | phase: train | ⏰: 07:35:22\n"
     ]
    },
    {
     "data": {
      "application/vnd.jupyter.widget-view+json": {
       "model_id": "55898c47a64546318ce24698474f7f82",
       "version_major": 2,
       "version_minor": 0
      },
      "text/plain": [
       "HBox(children=(FloatProgress(value=0.0, max=60.0), HTML(value='')))"
      ]
     },
     "metadata": {},
     "output_type": "display_data"
    }
   ],
   "source": [
    "model_trainer.freeze()\n",
    "model_trainer.fit(2)"
   ]
  },
  {
   "cell_type": "code",
   "execution_count": null,
   "metadata": {},
   "outputs": [],
   "source": [
    "model_trainer.do_cutmix = False"
   ]
  },
  {
   "cell_type": "code",
   "execution_count": null,
   "metadata": {},
   "outputs": [],
   "source": [
    "model_trainer.unfreeze()\n",
    "model_trainer.fit(2)"
   ]
  },
  {
   "cell_type": "code",
   "execution_count": null,
   "metadata": {},
   "outputs": [],
   "source": [
    "# def TRAIN(MODEL, ENCODER, OPTIMIZER, LOSS):\n",
    "#     if(MODEL == 'Unet'):\n",
    "#         model = smp.Unet(ENCODER, encoder_weights='imagenet', classes=5, activation=None)\n",
    "#     elif(MODEL == 'FPN'):\n",
    "#         model = smp.FPN(ENCODER, encoder_weights='imagenet', classes=5, activation=None)\n",
    "#     elif(MODEL == 'Linknet'):\n",
    "#         model = smp.Linknet(ENCODER, encoder_weights='imagenet', classes=5, activation=None)\n",
    "    \n",
    "#     model_trainer = Trainer(model = model, optim = OPTIMIZER, loss = LOSS, lr = 1e-3, bs = 8, name = ENCODER+'_'+MODEL+'_'+LOSS+'_'+OPTIMIZER)\n",
    "#     model.cutmix = False\n",
    "#     model_trainer.freeze()\n",
    "#     model_trainer.fit(10)\n",
    "#     model.cutmix = True\n",
    "#     model_trainer.unfreeze()\n",
    "#     model_trainer.fit(30)"
   ]
  },
  {
   "cell_type": "code",
   "execution_count": null,
   "metadata": {},
   "outputs": [],
   "source": [
    "# # Accordingly append to the list and train multiple models\n",
    "# # Naming has also been adjusted \n",
    "# # ['Ranger','Over9000'] * ['Dice', 'BCE+DICE', 'BCE+DICE+JACCARD']\n",
    "# Model = ['Unet']\n",
    "# Encoder = ['efficientnet-b4']\n",
    "# Optimizer = ['Ranger', 'Over9000']\n",
    "# Loss = ['Dice', 'BCE+DICE', 'BCE+DICE+JACCARD']\n",
    "# for model in Model:\n",
    "#     for encoder in Encoder:\n",
    "#         for optimizer in Optimizer:\n",
    "#             for loss in Loss:\n",
    "#                 TRAIN(model, encoder, optimizer, loss)\n",
    "                    \n"
   ]
  }
 ],
 "metadata": {
  "kernelspec": {
   "display_name": "Python 3",
   "language": "python",
   "name": "python3"
  },
  "language_info": {
   "codemirror_mode": {
    "name": "ipython",
    "version": 3
   },
   "file_extension": ".py",
   "mimetype": "text/x-python",
   "name": "python",
   "nbconvert_exporter": "python",
   "pygments_lexer": "ipython3",
   "version": "3.7.3"
  }
 },
 "nbformat": 4,
 "nbformat_minor": 2
}
