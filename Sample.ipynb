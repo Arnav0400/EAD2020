{
 "cells": [
  {
   "cell_type": "code",
   "execution_count": 1,
   "metadata": {},
   "outputs": [],
   "source": [
    "import segmentation_models_pytorch as smp\n",
    "from trainer import Trainer"
   ]
  },
  {
   "cell_type": "markdown",
   "metadata": {},
   "source": [
    "# Training"
   ]
  },
  {
   "cell_type": "code",
   "execution_count": 2,
   "metadata": {},
   "outputs": [],
   "source": [
    "def TRAIN(MODEL, ENCODER, OPTIMIZER, LOSS):\n",
    "    if(MODEL == 'Unet'):\n",
    "        model = smp.Unet(ENCODER, encoder_weights='imagenet', classes=5, activation=None)\n",
    "    elif(MODEL == 'FPN'):\n",
    "        model = smp.FPN(ENCODER, encoder_weights='imagenet', classes=5, activation=None)\n",
    "    elif(MODEL == 'Linknet'):\n",
    "        model = smp.Linknet(ENCODER, encoder_weights='imagenet', classes=5, activation=None)\n",
    "    \n",
    "    model_trainer = Trainer(model = model, optim = OPTIMIZER, loss = LOSS, lr = 1e-3, bs = 8, name = ENCODER+'_'+MODEL+'_'+LOSS+'_'+OPTIMIZER)\n",
    "    model_trainer.seed_everything(43)\n",
    "    model_trainer.do_cutmix = False\n",
    "    model_trainer.freeze()\n",
    "    model_trainer.change_loader(crop_type=0, shape=512)\n",
    "    model_trainer.fit(10)\n",
    "    model_trainer.do_cutmix = True\n",
    "    model_trainer.unfreeze()\n",
    "    model_trainer.change_loader(crop_type=0, shape=512)\n",
    "    model_trainer.fit(20)\n",
    "    model_trainer.do_cutmix = True\n",
    "    model_trainer.unfreeze()\n",
    "    model_trainer.change_loader(crop_type=1, shape=512)\n",
    "    model_trainer.fit(20)\n",
    "    model_trainer.do_cutmix = False\n",
    "    model_trainer.freeze()\n",
    "    model_trainer.change_loader(crop_type=1, shape=512)\n",
    "    model_trainer.fit(5)"
   ]
  },
  {
   "cell_type": "code",
   "execution_count": 3,
   "metadata": {
    "scrolled": false
   },
   "outputs": [],
   "source": [
    "# Accordingly append to the list and train multiple models\n",
    "# Naming has also been adjusted \n",
    "# ['Ranger','Over9000'] * ['Dice', 'BCE+DICE', 'BCE+DICE+JACCARD']\n",
    "Model = ['FPN']\n",
    "Encoder = ['efficientnet-b4']\n",
    "Optimizer = ['Ranger', 'Over9000']\n",
    "Loss = ['DICE', 'BCE+DICE', 'BCE', 'BCE+DICE+JACCARD']\n",
    "for model in Model:\n",
    "    for encoder in Encoder:\n",
    "        for optimizer in Optimizer:\n",
    "            for loss in Loss:\n",
    "                TRAIN(model, encoder, optimizer, loss)"
   ]
  },
  {
   "cell_type": "markdown",
   "metadata": {},
   "source": [
    "# Testing"
   ]
  },
  {
   "cell_type": "code",
   "execution_count": 17,
   "metadata": {},
   "outputs": [
    {
     "name": "stdout",
     "output_type": "stream",
     "text": [
      "Loaded model with dice:  0.38162363408233785\n"
     ]
    }
   ],
   "source": [
    "model = smp.FPN('efficientnet-b4', encoder_weights='imagenet', classes=5, activation=None)\n",
    "model_trainer =Trainer(model = model, optim = 'Ranger', loss = 'BCE+DICE', lr = 1e-3, bs = 8, name = 'none')\n",
    "model_trainer.load_model('efficientnet-b4_FPN_BCE+DICE_Over9000_best_dice.pth')"
   ]
  },
  {
   "cell_type": "code",
   "execution_count": 18,
   "metadata": {
    "scrolled": false
   },
   "outputs": [
    {
     "name": "stdout",
     "output_type": "stream",
     "text": [
      "Starting epoch: 1 | phase: test | ⏰: 07:37:05\n"
     ]
    },
    {
     "data": {
      "application/vnd.jupyter.widget-view+json": {
       "model_id": "e26891402213469c8552c7774d5e10a5",
       "version_major": 2,
       "version_minor": 0
      },
      "text/plain": [
       "HBox(children=(FloatProgress(value=0.0, max=80.0), HTML(value='')))"
      ]
     },
     "metadata": {},
     "output_type": "display_data"
    },
    {
     "name": "stdout",
     "output_type": "stream",
     "text": [
      "\n",
      "Done\n"
     ]
    }
   ],
   "source": [
    "model_trainer.predict()"
   ]
  },
  {
   "cell_type": "code",
   "execution_count": 19,
   "metadata": {},
   "outputs": [],
   "source": [
    "import tifffile as tif"
   ]
  },
  {
   "cell_type": "code",
   "execution_count": 20,
   "metadata": {},
   "outputs": [],
   "source": [
    "sam = tif.imread('../EndoCV2020_testSubmission/semantic_masks/EAD2020_S10_23.tif')"
   ]
  },
  {
   "cell_type": "code",
   "execution_count": 21,
   "metadata": {},
   "outputs": [
    {
     "data": {
      "text/plain": [
       "(1080, 1351, 5)"
      ]
     },
     "execution_count": 21,
     "metadata": {},
     "output_type": "execute_result"
    }
   ],
   "source": [
    "sam.shape"
   ]
  },
  {
   "cell_type": "code",
   "execution_count": 27,
   "metadata": {},
   "outputs": [
    {
     "data": {
      "text/plain": [
       "<matplotlib.image.AxesImage at 0x7f4e2d41d2b0>"
      ]
     },
     "execution_count": 27,
     "metadata": {},
     "output_type": "execute_result"
    },
    {
     "data": {
      "image/png": "[encoded data removed]",
      "text/plain": [
       "<Figure size 432x288 with 1 Axes>"
      ]
     },
     "metadata": {
      "needs_background": "light"
     },
     "output_type": "display_data"
    }
   ],
   "source": [
    "import matplotlib.pyplot as plt\n",
    "plt.imshow(sam[:,:,4])"
   ]
  },
  {
   "cell_type": "code",
   "execution_count": null,
   "metadata": {},
   "outputs": [],
   "source": []
  }
 ],
 "metadata": {
  "kernelspec": {
   "display_name": "Python 3",
   "language": "python",
   "name": "python3"
  },
  "language_info": {
   "codemirror_mode": {
    "name": "ipython",
    "version": 3
   },
   "file_extension": ".py",
   "mimetype": "text/x-python",
   "name": "python",
   "nbconvert_exporter": "python",
   "pygments_lexer": "ipython3",
   "version": "3.7.3"
  }
 },
 "nbformat": 4,
 "nbformat_minor": 2
}
