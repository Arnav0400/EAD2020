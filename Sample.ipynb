{
 "cells": [
  {
   "cell_type": "code",
   "execution_count": 1,
   "metadata": {},
   "outputs": [],
   "source": [
    "import segmentation_models_pytorch as smp\n",
    "from trainer import Trainer"
   ]
  },
  {
   "cell_type": "code",
   "execution_count": null,
   "metadata": {},
   "outputs": [],
   "source": [
    "def TRAIN(MODEL, ENCODER, OPTIMIZER, LOSS):\n",
    "    if(MODEL == 'Unet'):\n",
    "        model = smp.Unet(ENCODER, encoder_weights='imagenet', classes=5, activation=None)\n",
    "    elif(MODEL == 'FPN'):\n",
    "        model = smp.FPN(ENCODER, encoder_weights='imagenet', classes=5, activation=None)\n",
    "    elif(MODEL == 'Linknet'):\n",
    "        model = smp.Linknet(ENCODER, encoder_weights='imagenet', classes=5, activation=None)\n",
    "    \n",
    "    model_trainer = Trainer(model = model, optim = OPTIMIZER, loss = LOSS, lr = 1e-3, bs = 8, name = ENCODER+'_'+MODEL+'_'+LOSS+'_'+OPTIMIZER)\n",
    "    model_trainer.seed_everything(43)\n",
    "    model_trainer.do_cutmix = False\n",
    "    model_trainer.freeze()\n",
    "    model_trainer.change_loader(crop_type=0, shape=512)\n",
    "    model_trainer.fit(10)\n",
    "    model_trainer.do_cutmix = True\n",
    "    model_trainer.unfreeze()\n",
    "    model_trainer.change_loader(crop_type=0, shape=512)\n",
    "    model_trainer.fit(20)\n",
    "    model_trainer.do_cutmix = True\n",
    "    model_trainer.unfreeze()\n",
    "    model_trainer.change_loader(crop_type=1, shape=512)\n",
    "    model_trainer.fit(20)\n",
    "    model_trainer.do_cutmix = False\n",
    "    model_trainer.freeze()\n",
    "    model_trainer.change_loader(crop_type=1, shape=512)\n",
    "    model_trainer.fit(5)"
   ]
  },
  {
   "cell_type": "code",
   "execution_count": null,
   "metadata": {
    "scrolled": false
   },
   "outputs": [
    {
     "name": "stdout",
     "output_type": "stream",
     "text": [
      "Starting epoch: 0 | phase: train | ⏰: 06:37:04\n"
     ]
    },
    {
     "data": {
      "application/vnd.jupyter.widget-view+json": {
       "model_id": "5d0431257d6647599865e754d4a0310a",
       "version_major": 2,
       "version_minor": 0
      },
      "text/plain": [
       "HBox(children=(FloatProgress(value=0.0, max=60.0), HTML(value='')))"
      ]
     },
     "metadata": {},
     "output_type": "display_data"
    },
    {
     "name": "stdout",
     "output_type": "stream",
     "text": [
      "\n",
      "Loss: 0.8929 | IoU: 0.0676 | dice: 0.0760 | f2_score: 0.0930 | lb_metric: 0.0771\n",
      "Starting epoch: 0 | phase: val | ⏰: 06:40:28\n"
     ]
    },
    {
     "data": {
      "application/vnd.jupyter.widget-view+json": {
       "model_id": "fb3fa3670c5944089e90f0d3f81dbab1",
       "version_major": 2,
       "version_minor": 0
      },
      "text/plain": [
       "HBox(children=(FloatProgress(value=0.0, max=99.0), HTML(value='')))"
      ]
     },
     "metadata": {},
     "output_type": "display_data"
    },
    {
     "name": "stdout",
     "output_type": "stream",
     "text": [
      "\n",
      "Loss: 0.3601 | IoU: 0.4494 | dice: 0.2523 | f2_score: 0.1035 | lb_metric: 0.2890\n",
      "* New optimal found according to dice, saving state *\n",
      "* New optimal found according to lb_metric, saving state *\n",
      "\n",
      "Starting epoch: 1 | phase: train | ⏰: 06:45:05\n"
     ]
    },
    {
     "data": {
      "application/vnd.jupyter.widget-view+json": {
       "model_id": "1e150ad1f98c407a8a0119a23aac8a11",
       "version_major": 2,
       "version_minor": 0
      },
      "text/plain": [
       "HBox(children=(FloatProgress(value=0.0, max=60.0), HTML(value='')))"
      ]
     },
     "metadata": {},
     "output_type": "display_data"
    },
    {
     "name": "stdout",
     "output_type": "stream",
     "text": [
      "\n",
      "Loss: 0.7801 | IoU: 0.1456 | dice: 0.1249 | f2_score: 0.1196 | lb_metric: 0.1313\n",
      "Starting epoch: 1 | phase: val | ⏰: 06:48:10\n"
     ]
    },
    {
     "data": {
      "application/vnd.jupyter.widget-view+json": {
       "model_id": "44f3b47f8df84aa8994f5e1212813467",
       "version_major": 2,
       "version_minor": 0
      },
      "text/plain": [
       "HBox(children=(FloatProgress(value=0.0, max=99.0), HTML(value='')))"
      ]
     },
     "metadata": {},
     "output_type": "display_data"
    },
    {
     "name": "stdout",
     "output_type": "stream",
     "text": [
      "\n",
      "Loss: 0.3455 | IoU: 0.6177 | dice: 0.2480 | f2_score: 0.1238 | lb_metric: 0.3556\n",
      "* New optimal found according to lb_metric, saving state *\n",
      "\n",
      "Starting epoch: 2 | phase: train | ⏰: 06:50:51\n"
     ]
    },
    {
     "data": {
      "application/vnd.jupyter.widget-view+json": {
       "model_id": "70b9c0c476e644d0a8dc31fd0d4a4633",
       "version_major": 2,
       "version_minor": 0
      },
      "text/plain": [
       "HBox(children=(FloatProgress(value=0.0, max=60.0), HTML(value='')))"
      ]
     },
     "metadata": {},
     "output_type": "display_data"
    }
   ],
   "source": [
    "# Accordingly append to the list and train multiple models\n",
    "# Naming has also been adjusted \n",
    "# ['Ranger','Over9000'] * ['Dice', 'BCE+DICE', 'BCE+DICE+JACCARD']\n",
    "Model = ['FPN']\n",
    "Encoder = ['efficientnet-b4']\n",
    "Optimizer = ['Ranger', 'Over9000']\n",
    "Loss = ['DICE', 'BCE+DICE', 'BCE']\n",
    "for model in Model:\n",
    "    for encoder in Encoder:\n",
    "        for optimizer in Optimizer:\n",
    "            for loss in Loss:\n",
    "                TRAIN(model, encoder, optimizer, loss)"
   ]
  },
  {
   "cell_type": "code",
   "execution_count": null,
   "metadata": {},
   "outputs": [],
   "source": [
    "# !sudo shutdown -h now"
   ]
  },
  {
   "cell_type": "code",
   "execution_count": null,
   "metadata": {},
   "outputs": [],
   "source": []
  }
 ],
 "metadata": {
  "kernelspec": {
   "display_name": "Python 3",
   "language": "python",
   "name": "python3"
  },
  "language_info": {
   "codemirror_mode": {
    "name": "ipython",
    "version": 3
   },
   "file_extension": ".py",
   "mimetype": "text/x-python",
   "name": "python",
   "nbconvert_exporter": "python",
   "pygments_lexer": "ipython3",
   "version": "3.7.3"
  }
 },
 "nbformat": 4,
 "nbformat_minor": 2
}
