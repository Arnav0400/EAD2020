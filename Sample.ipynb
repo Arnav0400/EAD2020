{
 "cells": [
  {
   "cell_type": "code",
   "execution_count": 1,
   "metadata": {},
   "outputs": [],
   "source": [
    "import segmentation_models_pytorch as smp\n",
    "from trainer import Trainer"
   ]
  },
  {
   "cell_type": "markdown",
   "metadata": {},
   "source": [
    "# Training"
   ]
  },
  {
   "cell_type": "code",
   "execution_count": 2,
   "metadata": {},
   "outputs": [],
   "source": [
    "# def TRAIN(MODEL, ENCODER, OPTIMIZER, LOSS):\n",
    "#     if(MODEL == 'Unet'):\n",
    "#         model = smp.Unet(ENCODER, encoder_weights='imagenet', classes=5, activation=None)\n",
    "#     elif(MODEL == 'FPN'):\n",
    "#         model = smp.FPN(ENCODER, encoder_weights='imagenet', classes=5, activation=None)\n",
    "#     elif(MODEL == 'Linknet'):\n",
    "#         model = smp.Linknet(ENCODER, encoder_weights='imagenet', classes=5, activation=None)\n",
    "    \n",
    "#     model_trainer = Trainer(model = model, optim = OPTIMIZER, loss = LOSS, lr = 1e-3, bs = 8, name = ENCODER+'_'+MODEL+'_'+LOSS+'_'+OPTIMIZER)\n",
    "#     model_trainer.seed_everything(43)\n",
    "#     model_trainer.do_cutmix = False\n",
    "#     model_trainer.freeze()\n",
    "#     model_trainer.change_loader(crop_type=0, shape=512)\n",
    "#     model_trainer.fit(10)\n",
    "#     model_trainer.do_cutmix = True\n",
    "#     model_trainer.unfreeze()\n",
    "#     model_trainer.change_loader(crop_type=0, shape=512)\n",
    "#     model_trainer.fit(20)\n",
    "#     model_trainer.do_cutmix = True\n",
    "#     model_trainer.unfreeze()\n",
    "#     model_trainer.change_loader(crop_type=1, shape=512)\n",
    "#     model_trainer.fit(20)\n",
    "#     model_trainer.do_cutmix = False\n",
    "#     model_trainer.freeze()\n",
    "#     model_trainer.change_loader(crop_type=1, shape=512)\n",
    "#     model_trainer.fit(5)"
   ]
  },
  {
   "cell_type": "code",
   "execution_count": 3,
   "metadata": {
    "scrolled": false
   },
   "outputs": [],
   "source": [
    "# # Accordingly append to the list and train multiple models\n",
    "# # Naming has also been adjusted \n",
    "# # ['Ranger','Over9000'] * ['Dice', 'BCE+DICE', 'BCE+DICE+JACCARD']\n",
    "# Model = ['FPN']\n",
    "# Encoder = ['efficientnet-b4']\n",
    "# Optimizer = ['Ranger', 'Over9000']\n",
    "# Loss = ['DICE', 'BCE+DICE', 'BCE', 'BCE+DICE+JACCARD']\n",
    "# for model in Model:\n",
    "#     for encoder in Encoder:\n",
    "#         for optimizer in Optimizer:\n",
    "#             for loss in Loss:\n",
    "#                 TRAIN(model, encoder, optimizer, loss)"
   ]
  },
  {
   "cell_type": "markdown",
   "metadata": {},
   "source": [
    "# Validate"
   ]
  },
  {
   "cell_type": "code",
   "execution_count": 4,
   "metadata": {},
   "outputs": [],
   "source": [
    "model = smp.FPN('efficientnet-b4', encoder_weights='imagenet', classes=5, activation=None)\n",
    "model_trainer =Trainer(model = model, optim = 'Ranger', loss = 'BCE+DICE', lr = 1e-3, bs = 8, name = 'none')\n",
    "# model_trainer.load_model('efficientnet-b4_FPN_BCE+DICE_Over9000_best_dice.pth')"
   ]
  },
  {
   "cell_type": "code",
   "execution_count": 5,
   "metadata": {},
   "outputs": [],
   "source": [
    "# model_trainer.validate()"
   ]
  },
  {
   "cell_type": "code",
   "execution_count": null,
   "metadata": {},
   "outputs": [
    {
     "name": "stdout",
     "output_type": "stream",
     "text": [
      "FPN efficientnet-b4 Ranger DICE\n",
      "Loaded model with dice:  0.37721314024232044\n",
      "Starting epoch: 1 | phase: val | ⏰: 12:04:16\n"
     ]
    },
    {
     "data": {
      "application/vnd.jupyter.widget-view+json": {
       "model_id": "dea1481b63d2430291aef1fc7436d3a5",
       "version_major": 2,
       "version_minor": 0
      },
      "text/plain": [
       "HBox(children=(FloatProgress(value=0.0, max=99.0), HTML(value='')))"
      ]
     },
     "metadata": {},
     "output_type": "display_data"
    }
   ],
   "source": [
    "Model = ['FPN']\n",
    "Encoder = ['efficientnet-b4']\n",
    "Optimizer = ['Ranger', 'Over9000']\n",
    "Loss = ['DICE', 'BCE+DICE', 'BCE', 'BCE+DICE+JACCARD']\n",
    "for model in Model:\n",
    "    for encoder in Encoder:\n",
    "        for optimizer in Optimizer:\n",
    "            for loss in Loss:\n",
    "                print(model, encoder, optimizer, loss)\n",
    "                model_trainer.load_model(encoder+'_'+model+'_'+loss+'_'+optimizer+'_best_lb_metric.pth')\n",
    "                model_trainer.validate()"
   ]
  },
  {
   "cell_type": "markdown",
   "metadata": {},
   "source": [
    "# Testing"
   ]
  },
  {
   "cell_type": "code",
   "execution_count": null,
   "metadata": {},
   "outputs": [],
   "source": [
    "model = smp.FPN('efficientnet-b4', encoder_weights='imagenet', classes=5, activation=None)\n",
    "model_trainer =Trainer(model = model, optim = 'Ranger', loss = 'BCE+DICE', lr = 1e-3, bs = 8, name = 'none')\n",
    "model_trainer.load_model('efficientnet-b4_FPN_BCE+DICE_Over9000_best_dice.pth')"
   ]
  },
  {
   "cell_type": "code",
   "execution_count": null,
   "metadata": {
    "scrolled": false
   },
   "outputs": [],
   "source": [
    "model_trainer.predict()"
   ]
  },
  {
   "cell_type": "code",
   "execution_count": null,
   "metadata": {},
   "outputs": [],
   "source": [
    "import tifffile as tif"
   ]
  },
  {
   "cell_type": "code",
   "execution_count": null,
   "metadata": {},
   "outputs": [],
   "source": [
    "sam = tif.imread('../EndoCV2020_testSubmission/semantic_masks/EAD2020_S000_0.tif')"
   ]
  },
  {
   "cell_type": "code",
   "execution_count": null,
   "metadata": {},
   "outputs": [],
   "source": [
    "sam.shape"
   ]
  },
  {
   "cell_type": "code",
   "execution_count": null,
   "metadata": {},
   "outputs": [],
   "source": [
    "import matplotlib.pyplot as plt\n",
    "plt.imshow(sam[4])"
   ]
  },
  {
   "cell_type": "code",
   "execution_count": null,
   "metadata": {},
   "outputs": [],
   "source": [
    "img = plt.imread('../ead2020/SemanticSegmentation/EAD2020_S000_0.jpg')"
   ]
  },
  {
   "cell_type": "code",
   "execution_count": null,
   "metadata": {},
   "outputs": [],
   "source": [
    "plt.imshow(img)"
   ]
  },
  {
   "cell_type": "code",
   "execution_count": null,
   "metadata": {},
   "outputs": [],
   "source": [
    "img.shape"
   ]
  },
  {
   "cell_type": "code",
   "execution_count": null,
   "metadata": {},
   "outputs": [],
   "source": [
    "sam.max()"
   ]
  },
  {
   "cell_type": "code",
   "execution_count": null,
   "metadata": {},
   "outputs": [],
   "source": []
  }
 ],
 "metadata": {
  "kernelspec": {
   "display_name": "Python 3",
   "language": "python",
   "name": "python3"
  },
  "language_info": {
   "codemirror_mode": {
    "name": "ipython",
    "version": 3
   },
   "file_extension": ".py",
   "mimetype": "text/x-python",
   "name": "python",
   "nbconvert_exporter": "python",
   "pygments_lexer": "ipython3",
   "version": "3.7.3"
  }
 },
 "nbformat": 4,
 "nbformat_minor": 2
}
